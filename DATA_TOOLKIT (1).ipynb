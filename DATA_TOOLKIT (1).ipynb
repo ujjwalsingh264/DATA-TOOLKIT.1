{
  "nbformat": 4,
  "nbformat_minor": 0,
  "metadata": {
    "colab": {
      "provenance": []
    },
    "kernelspec": {
      "name": "python3",
      "display_name": "Python 3"
    },
    "language_info": {
      "name": "python"
    }
  },
  "cells": [
    {
      "cell_type": "markdown",
      "source": [
        " #                      **DATA TOOLKIT**"
      ],
      "metadata": {
        "id": "T1npmBO8TXtj"
      }
    },
    {
      "cell_type": "markdown",
      "source": [
        "# QUESTION 1 --  What is NumPy, and why is it widely used in Python?\n"
      ],
      "metadata": {
        "id": "NkC6QauYgdiM"
      }
    },
    {
      "cell_type": "markdown",
      "metadata": {
        "id": "7a950da9"
      },
      "source": [
        "NumPy (**Num**erical **Py**thon) is a library for the Python programming language, adding support for large, multi-dimensional arrays and matrices, along with a large collection of high-level mathematical functions to operate on these arrays.\n",
        "\n",
        "\n",
        "\n",
        "NumPy is widely used for several key reasons:\n",
        "\n",
        "1.  **Performance:** NumPy arrays are more efficient for storing and manipulating large datasets compared to standard Python lists. This is because NumPy arrays are implemented in C, allowing for faster operations.\n",
        "2.  **Vectorization:** NumPy allows you to perform operations on entire arrays at once without explicit loops. This vectorization leads to significantly faster and more concise code, especially for mathematical and scientific computations.\n",
        "3.  **Broadcasting:** NumPy's broadcasting feature allows operations between arrays of different shapes and sizes under certain conditions, making it easier to perform element-wise operations.\n"
      ]
    },
    {
      "cell_type": "markdown",
      "source": [
        "# QUESTION 2 --  How does broadcasting work in NumPy?\n"
      ],
      "metadata": {
        "id": "lLZj13HtgTZa"
      }
    },
    {
      "cell_type": "markdown",
      "metadata": {
        "id": "fe82db9a"
      },
      "source": [
        "Broadcasting is a mechanism in NumPy that allows operations to be performed on arrays of different shapes and sizes. It's a set of rules that NumPy follows to \"stretch\" or \"replicate\" the smaller array to match the shape of the larger array during arithmetic operations. This avoids the need to explicitly create larger intermediate arrays, which can save memory and improve performance.\n",
        "\n",
        "The rules of broadcasting are as follows:\n",
        "\n",
        "1.  **Rule 1: Equal number of dimensions:** If the two arrays have the same number of dimensions, NumPy compares their shapes dimension by dimension, starting from the trailing (rightmost) dimension. Two dimensions are compatible if they are equal or if one of them is 1.\n",
        "2.  **Rule 2: Unequal number of dimensions:** If the two arrays have different numbers of dimensions, the shape of the array with fewer dimensions is padded with ones on its leading (leftmost) side until both arrays have the same number of dimensions.\n",
        "3.  **Rule 3: Compatibility check:** After padding (if necessary), if all dimensions are compatible according to Rule 1, the arrays are considered broadcastable. If any dimension is incompatible, a `ValueError` is raised.\n",
        "\n",
        "Once the arrays are broadcastable, the smaller array is conceptually \"stretched\" or \"replicated\" along the dimensions where its size is 1 to match the corresponding dimensions of the larger array. The operation is then performed element-wise on the resulting arrays.\n"
      ]
    },
    {
      "cell_type": "markdown",
      "source": [
        "# QUESTION 3 -- What is a Pandas DataFrame?"
      ],
      "metadata": {
        "id": "2P9fBcZph573"
      }
    },
    {
      "cell_type": "markdown",
      "metadata": {
        "id": "4f52007b"
      },
      "source": [
        "A Pandas DataFrame is a two-dimensional, size-mutable, and potentially heterogeneous tabular data structure with labeled axes (rows and columns). You can think of it as a spreadsheet or a SQL table. It is one of the most commonly used data structures in data analysis and manipulation with the pandas library.\n",
        "\n"
      ]
    },
    {
      "cell_type": "markdown",
      "source": [
        "# QUESTION 4 --  Explain the use of the groupby() method in Pandas?"
      ],
      "metadata": {
        "id": "ZIGUmpdGifH3"
      }
    },
    {
      "cell_type": "markdown",
      "metadata": {
        "id": "f9399ec8"
      },
      "source": [
        "## Explain the use of the groupby() method in Pandas\n",
        "\n",
        "The `groupby()` method in pandas is used to split a DataFrame into groups based on some criteria. This is a fundamental operation in data analysis and is often used in conjunction with aggregation functions (like `sum()`, `mean()`, `count()`, `max()`, `min()`, etc.) to perform calculations on subsets of your data.\n",
        "\n",
        "Conceptually, the `groupby()` process involves three steps:\n",
        "\n",
        "1.  **Splitting:** The data is split into groups based on the values in one or more columns.\n",
        "2.  **Applying:** A function (usually an aggregation function) is applied to each individual group.\n",
        "3.  **Combining:** The results of the applied function are combined into a new DataFrame or Series.\n",
        "\n"
      ]
    },
    {
      "cell_type": "markdown",
      "source": [
        "# QUESTION 5 -- Why is Seaborn preferred for statistical visualizations?"
      ],
      "metadata": {
        "id": "kdN9gMwDjVB6"
      }
    },
    {
      "cell_type": "markdown",
      "metadata": {
        "id": "4e5c7aaf"
      },
      "source": [
        "Seaborn is a Python data visualization library based on Matplotlib. It provides a high-level interface for drawing attractive and informative statistical graphics.\n",
        "Seaborn simplifies the process of creating visually appealing and statistically informative plots, especially when working with tabular data and exploring relationships and distributions within the data. Its built-in statistical plots, integration with Pandas, and enhanced aesthetics make it a preferred choice for many data analysts and scientists."
      ]
    },
    {
      "cell_type": "markdown",
      "source": [
        "# QUESTION 6 -- What are the differences between NumPy arrays and Python list?"
      ],
      "metadata": {
        "id": "tT1t7zQekMzR"
      }
    },
    {
      "cell_type": "markdown",
      "metadata": {
        "id": "0342b962"
      },
      "source": [
        "*   **Data Type:** NumPy arrays are homogeneous (all elements are the same type), while Python lists can be heterogeneous (elements can be different types).\n",
        "*   **Performance:** NumPy arrays are faster for numerical operations due to their implementation in C and optimized operations. Python lists are generally slower for these tasks.\n",
        "*   **Size:** NumPy arrays have a fixed size once created, while Python lists can dynamically grow or shrink.\n",
        "*   **Functionality:** NumPy arrays offer extensive mathematical functions and capabilities like broadcasting, which are not available in standard Python lists.\n",
        "*   **Memory:** NumPy arrays are more memory-efficient for large numerical datas.\n",
        " NumPy arrays are specialized for efficient numerical computations, while Python lists are more general-purpose data structures."
      ]
    },
    {
      "cell_type": "markdown",
      "source": [
        "#QUESTION 7 --  What is a heatmap, and when should it be use?"
      ],
      "metadata": {
        "id": "khl2LW8CmWnT"
      }
    },
    {
      "cell_type": "markdown",
      "metadata": {
        "id": "488933af"
      },
      "source": [
        "A heatmap is a graphical representation of data where the individual values contained in a matrix are represented as colors. It's a way to visualize the magnitude of a phenomenon as color in two dimensions. The variation in color intensity or hue represents the variation in the data values.\n",
        "\n",
        "Heatmaps are particularly useful for visualizing:\n",
        "\n",
        "1.  **Correlation matrices:** To show the pairwise correlations between multiple variables. Strong positive or negative correlations will be represented by distinct colors, making it easy to identify relationships.\n",
        "2.  **Data tables:** To display the values in a table in a visually intuitive way, especially when the table is large.\n",
        "3.  **Missing data:** To visualize the pattern of missing values in a dataset.\n",
        "4.  **Cluster analysis:** To visualize the results of clustering algorithms, where rows and columns are reordered based on their similarity.\n",
        "5.  **Genomic data:** To visualize gene expression levels across different samples.\n",
        "6.  **Website click data:** To show which areas of a webpage receive the most clicks.\n",
        "\n"
      ]
    },
    {
      "cell_type": "markdown",
      "source": [
        "# QUESTION 8 --  What does the term “vectorized operation” mean in NumPY?"
      ],
      "metadata": {
        "id": "A7SpYc_Bm1NU"
      }
    },
    {
      "cell_type": "markdown",
      "metadata": {
        "id": "25baaeda"
      },
      "source": [
        "In NumPy, a \"vectorized operation\" refers to performing mathematical operations on entire arrays at once, without explicitly looping through individual elements.\n",
        "\n",
        "Instead of writing a `for` loop to perform an operation on each element of an array, NumPy's vectorized operations apply the operation to all elements simultaneously and efficiently using optimized underlying C code. This results in significantly faster execution and more concise code compared to traditional Python loops, especially for large arrays."
      ]
    },
    {
      "cell_type": "markdown",
      "metadata": {
        "id": "181742a1"
      },
      "source": [
        "# QUESTION 9 -- How does Matplotlib differ from Plotly?\n",
        "\n",
        "Here are the key differences between Matplotlib and Plotly in a nutshell:\n",
        "\n",
        "*   **Interactivity:** Plotly creates interactive plots by default (zooming, panning, hovering), while Matplotlib primarily generates static plots.\n",
        "*   **Approach:** Matplotlib is low-level and highly customizable, requiring more code for complex plots. Plotly is high-level and declarative, simplifying the creation of interactive visualizations.\n",
        "*   **Output:** Matplotlib mainly outputs static images. Plotly outputs interactive web-based visualizations (HTML) and can also generate static images.\n",
        "*   **Ease of Use:** Plotly can be easier for creating complex interactive plots with less code.\n",
        "\n",
        "In short, Matplotlib offers more control for static plots, while Plotly excels at creating interactive and web-friendly visualizations."
      ]
    },
    {
      "cell_type": "markdown",
      "source": [
        "#QUESTION 10-- What is the significance of hierarchical indexing in PandaS?"
      ],
      "metadata": {
        "id": "38ubkRrdozLE"
      }
    },
    {
      "cell_type": "markdown",
      "metadata": {
        "id": "c8cedc02"
      },
      "source": [
        "\n",
        "Hierarchical indexing (or MultiIndex) in Pandas allows you to have multiple levels of indexes on an axis (rows or columns) of a DataFrame or Series. Its significance lies in enabling you to work with and analyze higher-dimensional data within a 1D or 2D structure, providing a powerful way to organize, select, and reshape complex datasets, especially those with grouped or nested categories."
      ]
    },
    {
      "cell_type": "markdown",
      "metadata": {
        "id": "055026bc"
      },
      "source": [
        "# QUESTION 11 -- What is the role of Seaborn’s pairplot() function?\n",
        "\n",
        "Seaborn's `pairplot()` function creates a grid of pairwise relationships in a dataset. It plots scatterplots for each pair of numerical variables and histograms (or kernel density estimates) on the diagonal to show the distribution of each single variable. It's a great tool for quickly visualizing relationships and distributions in your data."
      ]
    },
    {
      "cell_type": "markdown",
      "source": [],
      "metadata": {
        "id": "4sUEWM5-pXFu"
      }
    },
    {
      "cell_type": "markdown",
      "metadata": {
        "id": "5a6cd10f"
      },
      "source": [
        "# QUESTION 12 -- What is the purpose of the describe() function in Pandas? (In Short)\n",
        "\n",
        "The `describe()` function in Pandas provides a summary of descriptive statistics for the columns of a DataFrame or Series. For numerical columns, it includes count, mean, standard deviation, minimum, maximum, and quartile values. For object (string) or categorical columns, it provides count, unique values, top occurring value, and its frequency. It's useful for getting a quick overview of your data's distribution."
      ]
    },
    {
      "cell_type": "markdown",
      "source": [
        "# QUESTION 13 -- Why is handling missing data important in Pandas?\n",
        "\n",
        "Handling missing data in Pandas is crucial because:\n",
        "\n",
        "1.  **Accuracy:** Missing data can skew statistical analyses and lead to inaccurate conclusions or biased models.\n",
        "2.  **Functionality:** Many data analysis and machine learning algorithms cannot handle missing values and will produce errors.\n",
        "3.  **Data Integrity:** Addressing missing data helps maintain the integrity and quality of your dataset.\n",
        "\n",
        "Properly handling missing data ensures reliable analysis and allows you to use your data effectively for modeling and insights."
      ],
      "metadata": {
        "id": "2yfoXK_CqBJs"
      }
    },
    {
      "cell_type": "markdown",
      "metadata": {
        "id": "ae6a57bb"
      },
      "source": [
        "# QUESTION 14 -- What are the benefits of using Plotly for data visualization?\n",
        "\n",
        "The main benefits of using Plotly for data visualization are:\n",
        "\n",
        "*   **Interactivity:** Creates interactive plots by default (zooming, panning, hovering) without extra code.\n",
        "*   **Web Integration:** Easily embeddable in web applications and dashboards (HTML output).\n",
        "*   **High-Level Interface:** Simplifies creating complex and interactive plots with less code compared to lower-level libraries.\n",
        "*   **Rich Plot Types:** Supports a wide range of plot types, including 3D plots, contour plots, and financial charts.\n"
      ]
    },
    {
      "cell_type": "markdown",
      "metadata": {
        "id": "68a11b06"
      },
      "source": [
        "# QUESTION 15 -- How does NumPy handle multidimensional arrays?\n",
        "\n",
        "NumPy handles multidimensional arrays using its core data structure called the `ndarray` (n-dimensional array). This structure efficiently stores and manipulates arrays with any number of dimensions (e.g., 1D vectors, 2D matrices, 3D tensors). NumPy provides a wide range of functions and operations that work seamlessly on these multidimensional arrays, allowing for efficient element-wise operations, slicing, reshaping, and mathematical computations across all dimensions."
      ]
    },
    {
      "cell_type": "markdown",
      "source": [
        "# QUESTION 16 -- What is the role of Bokeh in data visualization?"
      ],
      "metadata": {
        "id": "ZSDt8h9wqm9Z"
      }
    },
    {
      "cell_type": "markdown",
      "source": [],
      "metadata": {
        "id": "hQG9vJLWqwFn"
      }
    },
    {
      "cell_type": "markdown",
      "metadata": {
        "id": "9be4858f"
      },
      "source": [
        "# QUESTION 16 -- What is the role of Bokeh in data visualization?\n",
        "\n",
        "Bokeh is a Python library that specializes in creating interactive web-based visualizations. Its primary role is to provide a flexible and powerful way to build complex statistical plots and dashboards that can be easily embedded in web pages or served as standalone applications, enabling interactive data exploration and presentation in a web browser."
      ]
    },
    {
      "cell_type": "markdown",
      "metadata": {
        "id": "2bba3fe4"
      },
      "source": [
        "# QUESTION 17 -- Explain the difference between apply() and map() in Pandas?\n",
        "\n",
        "*   **`apply()`:** Used on a DataFrame or Series to apply a function along an axis (row or column). It's more general and can apply functions that operate on the entire row or column.\n",
        "*   **`map()`:** Used only on a Series to substitute each value in the Series with another value. It's typically used for element-wise transformations or mapping values from a dictionary or Series.\n",
        "\n",
        "In short, `map()` is for element-wise substitution on a Series, while `apply()` is for applying functions along an axis of a DataFrame or Series."
      ]
    },
    {
      "cell_type": "markdown",
      "metadata": {
        "id": "ed7cde86"
      },
      "source": [
        "# QUESTION 18 -- What are some advanced features of NumPy?\n",
        "\n",
        "Some advanced features of NumPy include:\n",
        "\n",
        "*   **Broadcasting:** Performing operations on arrays of different shapes.\n",
        "*   **Linear Algebra:** Functions for matrix operations, eigenvalues, eigenvectors, etc.\n",
        "*   **Fourier Transforms:** Functions for analyzing frequencies in data.\n",
        "*   **Random Number Generation:** Sophisticated tools for generating random numbers from various distributions.\n",
        "*   **Masked Arrays:** Handling missing or invalid data.\n",
        "*   **Memory Mapping:** Working with large arrays stored on disk without loading the entire array into memory."
      ]
    },
    {
      "cell_type": "markdown",
      "metadata": {
        "id": "2f3a39bf"
      },
      "source": [
        " # QUESTION 19 --  How does Pandas simplify time series analysis?\n",
        "\n",
        "Pandas simplifies time series analysis by providing:\n",
        "\n",
        "*   **DatetimeIndex:** A specialized index for working with dates and times, enabling efficient indexing, slicing, and resampling of time series data.\n",
        "*   **Time-aware data structures:** Data structures like Series and DataFrames are designed to handle time series data effectively.\n",
        "*   **Built-in functions:** Functions for handling time zones, calculating time differences, resampling data at different frequencies (e.g., daily to monthly), and performing rolling window calculations.\n",
        "*   **Integration with plotting libraries:** Easy integration with libraries like Matplotlib and Seaborn for visualizing time series data.\n",
        "\n",
        "These features make it much easier to manipulate, analyze, and visualize time-stamped data compared to using standard Python lists or arrays."
      ]
    },
    {
      "cell_type": "markdown",
      "metadata": {
        "id": "c8adcbd4"
      },
      "source": [
        "# QUESTION 20 -- What is the role of a pivot table in Pandas?\n",
        "\n",
        "The role of a pivot table in Pandas is to summarize and reorganize data from a DataFrame. It takes column values and turns them into the index, columns, or values of a new DataFrame. This is useful for analyzing relationships between different variables and creating summary tables, similar to pivot tables in spreadsheet software."
      ]
    },
    {
      "cell_type": "markdown",
      "metadata": {
        "id": "ecf5c3ee"
      },
      "source": [
        "# QUESTION 21 -- Why is NumPy’s array slicing faster than Python’s list slicing?\n",
        "\n",
        "NumPy array slicing is faster than Python list slicing primarily because:\n",
        "\n",
        "1.  **Contiguous Memory Allocation:** NumPy arrays store elements in contiguous blocks of memory, allowing for efficient access and manipulation of data in chunks. Python lists store pointers to objects scattered throughout memory, requiring more overhead for accessing elements.\n",
        "2.  **Fixed Data Type:** NumPy arrays are homogeneous (elements are of the same data type), which allows for optimized operations on the data without checking the type of each element during slicing. Python lists can hold heterogeneous data types, requiring type checking for each element.\n",
        "3.  **C Implementation:** NumPy's core is implemented in C, which provides lower-level control and optimization for array operations, including slicing. Python lists are implemented in Python, which generally has more overhead.\n",
        "\n",
        "In essence, NumPy's design for numerical operations and its underlying C implementation lead to significant performance advantages for array slicing compared to the more general-purpose Python lists.\n"
      ]
    },
    {
      "cell_type": "markdown",
      "source": [],
      "metadata": {
        "id": "C40wsTeos2M2"
      }
    },
    {
      "cell_type": "markdown",
      "metadata": {
        "id": "48506fdf"
      },
      "source": [
        "# QUESTION 22 -- What are some common use cases for Seaborn?\n",
        "\n",
        "Some common use cases for Seaborn include:\n",
        "\n",
        "*   **Exploratory Data Analysis (EDA):** Visualizing distributions of variables and relationships between them.\n",
        "*   **Statistical Data Visualization:** Creating plots that show statistical relationships and model fits.\n",
        "*   **Visualizing Categorical Data:** Generating plots like box plots and bar plots to compare data across categories.\n",
        "*   **Plotting Time Series Data:** Enhancing aesthetics and providing statistical summaries for time series plots.\n",
        "*   **Creating Complex Multi-Panel Plots:** Easily generating grids of plots based on data subsets.\n",
        "*   **Visualizing Distributions:** Creating histograms and density plots to understand single variable distributions."
      ]
    },
    {
      "cell_type": "markdown",
      "source": [
        "# **PRACTICAL QUESTION**"
      ],
      "metadata": {
        "id": "qPD-L_2ttJnE"
      }
    },
    {
      "cell_type": "markdown",
      "source": [
        "#QUESTION 1 --  How do you create a 2D NumPy array and calculate the sum of each roW?"
      ],
      "metadata": {
        "id": "SbJpfiaEtSvf"
      }
    },
    {
      "cell_type": "code",
      "metadata": {
        "colab": {
          "base_uri": "https://localhost:8080/"
        },
        "id": "1db19967",
        "outputId": "bfd66117-0834-4de3-deb7-1e3d2048f8f5"
      },
      "source": [
        "import numpy as np\n",
        "\n",
        "two_d_array = np.array([[1, 2, 3],\n",
        "                        [4, 5, 6],\n",
        "                        [7, 8, 9]])\n",
        "\n",
        "print(\"2D NumPy Array:\")\n",
        "print(two_d_array)\n",
        "row_sums = np.sum(two_d_array, axis=1)\n",
        "\n",
        "print(\"\\nSum of each row:\")\n",
        "print(row_sums)\n",
        "\n",
        "\n",
        "row_sums_method = two_d_array.sum(axis=1)\n",
        "\n",
        "print(\"\\nSum of each row (using .sum() method):\")\n",
        "print(row_sums_method)"
      ],
      "execution_count": null,
      "outputs": [
        {
          "output_type": "stream",
          "name": "stdout",
          "text": [
            "2D NumPy Array:\n",
            "[[1 2 3]\n",
            " [4 5 6]\n",
            " [7 8 9]]\n",
            "\n",
            "Sum of each row:\n",
            "[ 6 15 24]\n",
            "\n",
            "Sum of each row (using .sum() method):\n",
            "[ 6 15 24]\n"
          ]
        }
      ]
    },
    {
      "cell_type": "markdown",
      "source": [
        "# QUESTION 2 -- Write a Pandas script to find the mean of a specific column in a DataFrames?"
      ],
      "metadata": {
        "id": "rijuszMduJWu"
      }
    },
    {
      "cell_type": "code",
      "metadata": {
        "colab": {
          "base_uri": "https://localhost:8080/"
        },
        "id": "c97b5d59",
        "outputId": "ae4d9113-c354-4cde-aa2e-786ca60b8e22"
      },
      "source": [
        "import pandas as pd\n",
        "\n",
        "data = {'Column1': [10, 20, 15, 25, 30],\n",
        "        'Column2': [1, 2, 3, 4, 5],\n",
        "        'Column3': [100, 200, 150, 250, 300]}\n",
        "df = pd.DataFrame(data)\n",
        "\n",
        "print(\"Original DataFrame:\")\n",
        "print(df)\n",
        "\n",
        "column_name = 'Column1'\n",
        "\n",
        "column_mean = df[column_name].mean()\n",
        "\n",
        "print(f\"\\nMean of the '{column_name}' column: {column_mean}\")\n",
        "\n",
        "another_column_name = 'Column3'\n",
        "another_column_mean = df[another_column_name].mean()\n",
        "\n",
        "print(f\"Mean of the '{another_column_name}' column: {another_column_mean}\")"
      ],
      "execution_count": null,
      "outputs": [
        {
          "output_type": "stream",
          "name": "stdout",
          "text": [
            "Original DataFrame:\n",
            "   Column1  Column2  Column3\n",
            "0       10        1      100\n",
            "1       20        2      200\n",
            "2       15        3      150\n",
            "3       25        4      250\n",
            "4       30        5      300\n",
            "\n",
            "Mean of the 'Column1' column: 20.0\n",
            "Mean of the 'Column3' column: 200.0\n"
          ]
        }
      ]
    },
    {
      "cell_type": "markdown",
      "source": [
        "# QUESTION 3--  Create a scatter plot using Matplotlib."
      ],
      "metadata": {
        "id": "zchc3tatvJTM"
      }
    },
    {
      "cell_type": "code",
      "metadata": {
        "collapsed": true,
        "id": "69565b56"
      },
      "source": [
        "import matplotlib.pyplot as plt\n",
        "import pandas as pd\n",
        "plt.scatter(df['Column1'], df['Column3'])\n",
        "plt.xlabel('Column1')\n",
        "plt.ylabel('Column3')\n",
        "plt.title('Scatter Plot of Column1 vs Column3')\n",
        "plt.show()"
      ],
      "execution_count": null,
      "outputs": []
    },
    {
      "cell_type": "markdown",
      "source": [
        "# QUESTION 4 --  How do you calculate the correlation matrix using Seaborn and visualize it with a heatmaP?"
      ],
      "metadata": {
        "id": "vryyz4G7vhkN"
      }
    },
    {
      "cell_type": "code",
      "metadata": {
        "id": "b03452ba"
      },
      "source": [
        "import pandas as pd\n",
        "import seaborn as sns\n",
        "import matplotlib.pyplot as plt\n",
        "\n",
        "correlation_matrix = df.corr()\n",
        "\n",
        "print(\"Correlation Matrix:\")\n",
        "print(correlation_matrix)\n",
        "plt.figure(figsize=(8, 6))\n",
        "sns.heatmap(correlation_matrix, annot=True, cmap='coolwarm', fmt=\".2f\", linewidths=.5)\n",
        "plt.title('Correlation Matrix of the DataFrame')\n",
        "plt.show()"
      ],
      "execution_count": null,
      "outputs": []
    },
    {
      "cell_type": "markdown",
      "source": [
        "# QUESTION 5 --  Generate a bar plot using Plotly?"
      ],
      "metadata": {
        "id": "hIyjY-lQwA90"
      }
    },
    {
      "cell_type": "code",
      "metadata": {
        "id": "f3701403"
      },
      "source": [
        "import plotly.express as px\n",
        "import pandas as pd\n",
        "\n",
        "fig = px.bar(df, x='Column1', y='Column3', title='Bar Plot of Column1 vs Column3')\n",
        "fig.show()"
      ],
      "execution_count": null,
      "outputs": []
    },
    {
      "cell_type": "markdown",
      "source": [
        "# QUESTION 6--  Create a DataFrame and add a new column based on an existing column."
      ],
      "metadata": {
        "id": "q3wIB2QnwToI"
      }
    },
    {
      "cell_type": "code",
      "metadata": {
        "id": "4f7562fd"
      },
      "source": [
        "import pandas as pd\n",
        "\n",
        "data = {'A': [10, 20, 30, 40, 50],\n",
        "        'B': [1, 2, 3, 4, 5],\n",
        "        'C': ['X', 'Y', 'X', 'Y', 'X']}\n",
        "df_new_column = pd.DataFrame(data)\n",
        "\n",
        "print(\"Original DataFrame:\")\n",
        "print(df_new_column)\n",
        "df_new_column['D'] = df_new_column['A'] * 2\n",
        "df_new_column['E'] = df_new_column['A'].apply(lambda x: 'High' if x > 30 else 'Low')\n",
        "\n",
        "\n",
        "print(\"\\nDataFrame with new columns 'D' and 'E':\")\n",
        "print(df_new_column)"
      ],
      "execution_count": null,
      "outputs": []
    },
    {
      "cell_type": "markdown",
      "source": [
        "# QUESTION 7 --Write a program to perform element-wise multiplication of two NumPy arrays."
      ],
      "metadata": {
        "id": "TXzJNIrzwpZ3"
      }
    },
    {
      "cell_type": "code",
      "metadata": {
        "id": "1f3e46c8"
      },
      "source": [
        "import numpy as np\n",
        "array1 = np.array([1, 2, 3, 4])\n",
        "array2 = np.array([5, 6, 7, 8])\n",
        "\n",
        "print(\"Array 1:\")\n",
        "print(array1)\n",
        "print(\"\\nArray 2:\")\n",
        "print(array2)\n",
        "\n",
        "result_array = array1 * array2\n",
        "\n",
        "print(\"\\nResult of element-wise multiplication:\")\n",
        "print(result_array)\n",
        "array3 = np.array([[1, 2], [3, 4]])\n",
        "array4 = np.array([[5, 6], [7, 8]])\n",
        "\n",
        "print(\"\\nArray 3:\")\n",
        "print(array3)\n",
        "print(\"\\nArray 4:\")\n",
        "print(array4)\n",
        "\n",
        "result_multi = array3 * array4\n",
        "\n",
        "print(\"\\nResult of element-wise multiplication (multidimensional):\")\n",
        "print(result_multi)"
      ],
      "execution_count": null,
      "outputs": []
    },
    {
      "cell_type": "markdown",
      "source": [
        "# QUESTION 8-- Create a line plot with multiple lines using Matplotlib."
      ],
      "metadata": {
        "id": "x1NySuDLxDab"
      }
    },
    {
      "cell_type": "code",
      "metadata": {
        "id": "958b0a0e"
      },
      "source": [
        "import matplotlib.pyplot as plt\n",
        "import pandas as pd\n",
        "\n",
        "\n",
        "plt.figure(figsize=(10, 6))\n",
        "\n",
        "plt.plot(df.index, df['Column1'], label='Column1')\n",
        "plt.plot(df.index, df['Column2'], label='Column2')\n",
        "plt.plot(df.index, df['Column3'], label='Column3')\n",
        "plt.xlabel('Index')\n",
        "plt.ylabel('Values')\n",
        "plt.title('Line Plot of Multiple Columns')\n",
        "plt.legend()\n",
        "\n",
        "plt.grid(True)\n",
        "\n",
        "plt.show()"
      ],
      "execution_count": null,
      "outputs": []
    },
    {
      "cell_type": "markdown",
      "source": [
        "# QUESTION 9 --  Generate a Pandas DataFrame and filter rows where a column value is greater than a threshold."
      ],
      "metadata": {
        "id": "SEu6iYTTxbbv"
      }
    },
    {
      "cell_type": "code",
      "metadata": {
        "id": "e4363822"
      },
      "source": [
        "import pandas as pd\n",
        "\n",
        "data = {'Category': ['A', 'B', 'A', 'C', 'B', 'C', 'A'],\n",
        "        'Value': [10, 25, 12, 35, 20, 40, 15],\n",
        "        'ID': [101, 102, 103, 104, 105, 106, 107]}\n",
        "df_filter = pd.DataFrame(data)\n",
        "\n",
        "print(\"Original DataFrame:\")\n",
        "display(df_filter)\n",
        "\n",
        "threshold = 20\n",
        "filtered_df = df_filter[df_filter['Value'] > threshold]\n",
        "\n",
        "print(f\"\\nDataFrame filtered where 'Value' is greater than {threshold}:\")\n",
        "display(filtered_df)\n",
        "\n",
        "filtered_by_category = df_filter[df_filter['Category'] == 'A']\n",
        "\n",
        "print(\"\\nDataFrame filtered where 'Category' is 'A':\")\n",
        "display(filtered_by_category)"
      ],
      "execution_count": null,
      "outputs": []
    },
    {
      "cell_type": "markdown",
      "source": [
        "# QUESTION 10 --  Create a histogram using Seaborn to visualize a distribution"
      ],
      "metadata": {
        "id": "2ukW7GI4yhDs"
      }
    },
    {
      "cell_type": "code",
      "metadata": {
        "id": "a87c548c"
      },
      "source": [
        "import seaborn as sns\n",
        "import matplotlib.pyplot as plt\n",
        "import pandas as pd\n",
        "\n",
        "plt.figure(figsize=(8, 6))\n",
        "sns.histplot(data=df_filter, x='Value', kde=True)\n",
        "\n",
        "\n",
        "plt.title('Distribution of Values (Histogram)')\n",
        "plt.xlabel('Value')\n",
        "plt.ylabel('Frequency')\n",
        "plt.show()"
      ],
      "execution_count": null,
      "outputs": []
    },
    {
      "cell_type": "markdown",
      "source": [
        "# QUESTION 11 --  Perform matrix multiplication using NumPy."
      ],
      "metadata": {
        "id": "2tZV42JSywwK"
      }
    },
    {
      "cell_type": "code",
      "metadata": {
        "id": "57723a80"
      },
      "source": [
        "import numpy as np\n",
        "\n",
        "matrix1 = np.array([[1, 2],\n",
        "                    [3, 4]])\n",
        "\n",
        "matrix2 = np.array([[5, 6],\n",
        "                    [7, 8]])\n",
        "\n",
        "print(\"Matrix 1:\")\n",
        "print(matrix1)\n",
        "print(\"\\nMatrix 2:\")\n",
        "print(matrix2)\n",
        "\n",
        "result_matrix_at = matrix1 @ matrix2\n",
        "\n",
        "print(\"\\nResult of matrix multiplication (using @ operator):\")\n",
        "print(result_matrix_at)\n",
        "\n",
        "\n",
        "result_matrix_dot = np.dot(matrix1, matrix2)\n",
        "\n",
        "print(\"\\nResult of matrix multiplication (using np.dot()):\")\n",
        "print(result_matrix_dot)\n",
        "\n",
        "\n",
        "matrix3 = np.array([[1, 2, 3],\n",
        "                    [4, 5, 6]])\n",
        "\n",
        "matrix4 = np.array([[7, 8],\n",
        "                    [9, 10],\n",
        "                    [11, 12]])\n",
        "\n",
        "print(\"\\nMatrix 3:\")\n",
        "print(matrix3)\n",
        "print(\"\\nMatrix 4:\")\n",
        "print(matrix4)\n",
        "\n",
        "result_different_dims = matrix3 @ matrix4\n",
        "\n",
        "print(\"\\nResult of matrix multiplication (2x3 @ 3x2):\")\n",
        "print(result_different_dims)"
      ],
      "execution_count": null,
      "outputs": []
    },
    {
      "cell_type": "markdown",
      "source": [
        " # QUESTION 12  -- Use Pandas to load a CSV file and display its first 5 rowS?"
      ],
      "metadata": {
        "id": "GIshiSwvzY4-"
      }
    },
    {
      "cell_type": "code",
      "metadata": {
        "id": "22f988c5"
      },
      "source": [
        "import pandas as pd\n",
        "\n",
        "\n",
        "csv_file_path = 'your_file.csv'\n",
        "\n",
        "try:\n",
        "\n",
        "    df_csv = pd.read_csv(csv_file_path)\n",
        "\n",
        "    print(f\"Successfully loaded data from '{csv_file_path}'\")\n",
        "    print(\"\\nFirst 5 rows of the DataFrame:\")\n",
        "    display(df_csv.head())\n",
        "\n",
        "except FileNotFoundError:\n",
        "    print(f\"Error: The file '{csv_file_path}' was not found.\")\n",
        "    print(\"Please make sure the file exists and the path is correct.\")\n",
        "except Exception as e:\n",
        "    print(f\"An error occurred while reading the CSV file: {e}\")"
      ],
      "execution_count": null,
      "outputs": []
    },
    {
      "cell_type": "markdown",
      "source": [
        "# QUESTION 13 -- Create a 3D scatter plot using Plotly.\n"
      ],
      "metadata": {
        "id": "Unfu39sCzhuH"
      }
    },
    {
      "cell_type": "code",
      "metadata": {
        "id": "714c0723"
      },
      "source": [
        "import plotly.express as px\n",
        "import pandas as pd\n",
        "import numpy as np\n",
        "\n",
        "np.random.seed(42)\n",
        "data_3d = {\n",
        "    'x': np.random.rand(50) * 10,\n",
        "    'y': np.random.rand(50) * 10,\n",
        "    'z': np.random.rand(50) * 10,\n",
        "    'Category': np.random.choice(['A', 'B', 'C'], 50)\n",
        "}\n",
        "df_3d = pd.DataFrame(data_3d)\n",
        "\n",
        "print(\"Sample DataFrame for 3D scatter plot:\")\n",
        "display(df_3d.head())\n",
        "\n",
        "\n",
        "fig = px.scatter_3d(df_3d,\n",
        "                    x='x',\n",
        "                    y='y',\n",
        "                    z='z',\n",
        "                    color='Category',\n",
        "                    title='3D Scatter Plot Example')\n",
        "\n",
        "\n",
        "fig.show()"
      ],
      "execution_count": null,
      "outputs": []
    }
  ]
}